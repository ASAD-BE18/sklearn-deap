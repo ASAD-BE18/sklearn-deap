{
 "cells": [
  {
   "cell_type": "markdown",
   "metadata": {},
   "source": [
    "## Load the digits dataset and evolutionary_search"
   ]
  },
  {
   "cell_type": "code",
   "execution_count": 6,
   "metadata": {
    "scrolled": false
   },
   "outputs": [
    {
     "data": {
      "text/plain": [
       "((1797, 64), (1797,))"
      ]
     },
     "execution_count": 6,
     "metadata": {},
     "output_type": "execute_result"
    }
   ],
   "source": [
    "from evolutionary_search import EvolutionaryAlgorithmSearchCV\n",
    "import sklearn.datasets\n",
    "import numpy as np\n",
    "import pandas as pd\n",
    "\n",
    "data = sklearn.datasets.load_digits()\n",
    "X = data[\"data\"]\n",
    "y = data[\"target\"]\n",
    "\n",
    "# make it a 2-class problem by only classifying the digit \"5\" vs the rest\n",
    "y = np.array([1 if yy == 5 else 0 for yy in y])\n",
    "\n",
    "X.shape, y.shape"
   ]
  },
  {
   "cell_type": "code",
   "execution_count": 7,
   "metadata": {},
   "outputs": [],
   "source": [
    "from sklearn.model_selection import StratifiedKFold, GridSearchCV, RandomizedSearchCV\n",
    "from sklearn.svm import SVC"
   ]
  },
  {
   "cell_type": "markdown",
   "metadata": {},
   "source": [
    "## Train an SVM with RBF kernel"
   ]
  },
  {
   "cell_type": "markdown",
   "metadata": {},
   "source": [
    "### Using conventional GridSearchCV"
   ]
  },
  {
   "cell_type": "markdown",
   "metadata": {},
   "source": [
    "Parameter grid: 625 parameter combinations"
   ]
  },
  {
   "cell_type": "code",
   "execution_count": 8,
   "metadata": {},
   "outputs": [
    {
     "name": "stdout",
     "output_type": "stream",
     "text": [
      "Size:  625\n"
     ]
    }
   ],
   "source": [
    "paramgrid = {\"kernel\": [\"rbf\"],\n",
    "             \"C\"     : np.logspace(-9, 9, num=25, base=10),\n",
    "             \"gamma\" : np.logspace(-9, 9, num=25, base=10)}\n",
    "print(\"Size: \", len(paramgrid[\"kernel\"])*len(paramgrid[\"C\"])*len(paramgrid[\"gamma\"]))"
   ]
  },
  {
   "cell_type": "code",
   "execution_count": 9,
   "metadata": {},
   "outputs": [
    {
     "name": "stdout",
     "output_type": "stream",
     "text": [
      "Fitting 2 folds for each of 625 candidates, totalling 1250 fits\n",
      "CPU times: user 3min 6s, sys: 141 ms, total: 3min 6s\n",
      "Wall time: 3min 10s\n"
     ]
    },
    {
     "name": "stderr",
     "output_type": "stream",
     "text": [
      "[Parallel(n_jobs=1)]: Done 1250 out of 1250 | elapsed:  3.2min finished\n"
     ]
    },
    {
     "data": {
      "text/plain": [
       "GridSearchCV(cv=StratifiedKFold(n_splits=2, random_state=None, shuffle=False),\n",
       "       error_score='raise',\n",
       "       estimator=SVC(C=1.0, cache_size=200, class_weight=None, coef0=0.0,\n",
       "  decision_function_shape=None, degree=3, gamma='auto', kernel='rbf',\n",
       "  max_iter=-1, probability=False, random_state=None, shrinking=True,\n",
       "  tol=0.001, verbose=False),\n",
       "       fit_params={}, iid=True, n_jobs=1,\n",
       "       param_grid={'C': array([  1.00000e-09,   5.62341e-09,   3.16228e-08,   1.77828e-07,\n",
       "         1.00000e-06,   5.62341e-06,   3.16228e-05,   1.77828e-04,\n",
       "         1.00000e-03,   5.62341e-03,   3.16228e-02,   1.77828e-01,\n",
       "         1.00000e+00,   5.62341e+00,   3.16228e+01,   1.77828e+02,\n",
       "         1.0000...7828e+05,\n",
       "         1.00000e+06,   5.62341e+06,   3.16228e+07,   1.77828e+08,\n",
       "         1.00000e+09])},\n",
       "       pre_dispatch='2*n_jobs', refit=True, return_train_score=True,\n",
       "       scoring='accuracy', verbose=1)"
      ]
     },
     "execution_count": 9,
     "metadata": {},
     "output_type": "execute_result"
    }
   ],
   "source": [
    "cv = GridSearchCV(estimator=SVC(),\n",
    "                  param_grid=paramgrid,\n",
    "                  scoring=\"accuracy\",\n",
    "                  cv=StratifiedKFold(n_splits=2),\n",
    "                  verbose=1)\n",
    "%time cv.fit(X, y)"
   ]
  },
  {
   "cell_type": "markdown",
   "metadata": {},
   "source": [
    "### Best score + params"
   ]
  },
  {
   "cell_type": "code",
   "execution_count": 10,
   "metadata": {},
   "outputs": [
    {
     "data": {
      "text/plain": [
       "(0.98942682248191427, {'C': 1.0, 'gamma': 0.001, 'kernel': 'rbf'})"
      ]
     },
     "execution_count": 10,
     "metadata": {},
     "output_type": "execute_result"
    }
   ],
   "source": [
    "cv.best_score_, cv.best_params_"
   ]
  },
  {
   "cell_type": "markdown",
   "metadata": {},
   "source": [
    "An example of the \"cannonical\" cv_results_ table in sklearn:"
   ]
  },
  {
   "cell_type": "code",
   "execution_count": 34,
   "metadata": {},
   "outputs": [
    {
     "data": {
      "text/html": [
       "<div>\n",
       "<table border=\"1\" class=\"dataframe\">\n",
       "  <thead>\n",
       "    <tr style=\"text-align: right;\">\n",
       "      <th></th>\n",
       "      <th>index</th>\n",
       "      <th>max_test_score</th>\n",
       "      <th>mean_test_score</th>\n",
       "      <th>min_test_score</th>\n",
       "      <th>nan_test_score?</th>\n",
       "      <th>param_index</th>\n",
       "      <th>params</th>\n",
       "      <th>std_test_score</th>\n",
       "    </tr>\n",
       "  </thead>\n",
       "  <tbody>\n",
       "    <tr>\n",
       "      <th>0</th>\n",
       "      <td>1</td>\n",
       "      <td>0.994435</td>\n",
       "      <td>0.994435</td>\n",
       "      <td>0.994435</td>\n",
       "      <td>False</td>\n",
       "      <td>0</td>\n",
       "      <td>{'C': 177827941.004, 'kernel': 'rbf', 'gamma':...</td>\n",
       "      <td>0.0</td>\n",
       "    </tr>\n",
       "    <tr>\n",
       "      <th>254</th>\n",
       "      <td>255</td>\n",
       "      <td>0.994435</td>\n",
       "      <td>0.994435</td>\n",
       "      <td>0.994435</td>\n",
       "      <td>False</td>\n",
       "      <td>0</td>\n",
       "      <td>{'C': 177827.941004, 'kernel': 'rbf', 'gamma':...</td>\n",
       "      <td>0.0</td>\n",
       "    </tr>\n",
       "    <tr>\n",
       "      <th>263</th>\n",
       "      <td>264</td>\n",
       "      <td>0.994435</td>\n",
       "      <td>0.994435</td>\n",
       "      <td>0.994435</td>\n",
       "      <td>False</td>\n",
       "      <td>0</td>\n",
       "      <td>{'C': 177827941.004, 'kernel': 'rbf', 'gamma':...</td>\n",
       "      <td>0.0</td>\n",
       "    </tr>\n",
       "    <tr>\n",
       "      <th>262</th>\n",
       "      <td>263</td>\n",
       "      <td>0.994435</td>\n",
       "      <td>0.994435</td>\n",
       "      <td>0.994435</td>\n",
       "      <td>False</td>\n",
       "      <td>0</td>\n",
       "      <td>{'C': 1000000.0, 'kernel': 'rbf', 'gamma': 0.001}</td>\n",
       "      <td>0.0</td>\n",
       "    </tr>\n",
       "    <tr>\n",
       "      <th>261</th>\n",
       "      <td>262</td>\n",
       "      <td>0.994435</td>\n",
       "      <td>0.994435</td>\n",
       "      <td>0.994435</td>\n",
       "      <td>False</td>\n",
       "      <td>0</td>\n",
       "      <td>{'C': 177827941.004, 'kernel': 'rbf', 'gamma':...</td>\n",
       "      <td>0.0</td>\n",
       "    </tr>\n",
       "  </tbody>\n",
       "</table>\n",
       "</div>"
      ],
      "text/plain": [
       "     index  max_test_score  mean_test_score  min_test_score nan_test_score?  \\\n",
       "0        1        0.994435         0.994435        0.994435           False   \n",
       "254    255        0.994435         0.994435        0.994435           False   \n",
       "263    264        0.994435         0.994435        0.994435           False   \n",
       "262    263        0.994435         0.994435        0.994435           False   \n",
       "261    262        0.994435         0.994435        0.994435           False   \n",
       "\n",
       "     param_index                                             params  \\\n",
       "0              0  {'C': 177827941.004, 'kernel': 'rbf', 'gamma':...   \n",
       "254            0  {'C': 177827.941004, 'kernel': 'rbf', 'gamma':...   \n",
       "263            0  {'C': 177827941.004, 'kernel': 'rbf', 'gamma':...   \n",
       "262            0  {'C': 1000000.0, 'kernel': 'rbf', 'gamma': 0.001}   \n",
       "261            0  {'C': 177827941.004, 'kernel': 'rbf', 'gamma':...   \n",
       "\n",
       "     std_test_score  \n",
       "0               0.0  \n",
       "254             0.0  \n",
       "263             0.0  \n",
       "262             0.0  \n",
       "261             0.0  "
      ]
     },
     "execution_count": 34,
     "metadata": {},
     "output_type": "execute_result"
    }
   ],
   "source": [
    "pd.DataFrame(cv.cv_results_).sort_values(\"mean_test_score\", ascending=False).head()"
   ]
  },
  {
   "cell_type": "markdown",
   "metadata": {},
   "source": [
    "### Using RandomizedSearchCV"
   ]
  },
  {
   "cell_type": "markdown",
   "metadata": {},
   "source": [
    "Same parameter space, but only test 250 random combinations."
   ]
  },
  {
   "cell_type": "code",
   "execution_count": 12,
   "metadata": {
    "scrolled": false
   },
   "outputs": [
    {
     "name": "stdout",
     "output_type": "stream",
     "text": [
      "Fitting 2 folds for each of 250 candidates, totalling 500 fits\n",
      "CPU times: user 1min 13s, sys: 93.8 ms, total: 1min 13s\n",
      "Wall time: 1min 15s\n"
     ]
    },
    {
     "name": "stderr",
     "output_type": "stream",
     "text": [
      "[Parallel(n_jobs=1)]: Done 500 out of 500 | elapsed:  1.3min finished\n"
     ]
    },
    {
     "data": {
      "text/plain": [
       "RandomizedSearchCV(cv=StratifiedKFold(n_splits=2, random_state=None, shuffle=False),\n",
       "          error_score='raise',\n",
       "          estimator=SVC(C=1.0, cache_size=200, class_weight=None, coef0=0.0,\n",
       "  decision_function_shape=None, degree=3, gamma='auto', kernel='rbf',\n",
       "  max_iter=-1, probability=False, random_state=None, shrinking=True,\n",
       "  tol=0.001, verbose=False),\n",
       "          fit_params={}, iid=True, n_iter=250, n_jobs=1,\n",
       "          param_distributions={'C': array([  1.00000e-09,   5.62341e-09,   3.16228e-08,   1.77828e-07,\n",
       "         1.00000e-06,   5.62341e-06,   3.16228e-05,   1.77828e-04,\n",
       "         1.00000e-03,   5.62341e-03,   3.16228e-02,   1.77828e-01,\n",
       "         1.00000e+00,   5.62341e+00,   3.16228e+01,   1.77828e+02,\n",
       "      ...7828e+05,\n",
       "         1.00000e+06,   5.62341e+06,   3.16228e+07,   1.77828e+08,\n",
       "         1.00000e+09])},\n",
       "          pre_dispatch='2*n_jobs', random_state=None, refit=True,\n",
       "          return_train_score=True, scoring='accuracy', verbose=1)"
      ]
     },
     "execution_count": 12,
     "metadata": {},
     "output_type": "execute_result"
    }
   ],
   "source": [
    "cv = RandomizedSearchCV(estimator=SVC(),\n",
    "                        param_distributions=paramgrid,\n",
    "                        n_iter=250,\n",
    "                        scoring=\"accuracy\",\n",
    "                        cv=StratifiedKFold(n_splits=2),\n",
    "                        verbose=1)\n",
    "%time cv.fit(X, y)"
   ]
  },
  {
   "cell_type": "markdown",
   "metadata": {},
   "source": [
    "### Best score + params"
   ]
  },
  {
   "cell_type": "code",
   "execution_count": 13,
   "metadata": {},
   "outputs": [
    {
     "data": {
      "text/plain": [
       "(0.98942682248191427, {'C': 1.0, 'gamma': 0.001, 'kernel': 'rbf'})"
      ]
     },
     "execution_count": 13,
     "metadata": {},
     "output_type": "execute_result"
    }
   ],
   "source": [
    "cv.best_score_, cv.best_params_"
   ]
  },
  {
   "cell_type": "markdown",
   "metadata": {},
   "source": [
    "An example of the \"cannonical\" cv_results_ table in sklearn:"
   ]
  },
  {
   "cell_type": "code",
   "execution_count": 33,
   "metadata": {},
   "outputs": [
    {
     "data": {
      "text/html": [
       "<div>\n",
       "<table border=\"1\" class=\"dataframe\">\n",
       "  <thead>\n",
       "    <tr style=\"text-align: right;\">\n",
       "      <th></th>\n",
       "      <th>index</th>\n",
       "      <th>max_test_score</th>\n",
       "      <th>mean_test_score</th>\n",
       "      <th>min_test_score</th>\n",
       "      <th>nan_test_score?</th>\n",
       "      <th>param_index</th>\n",
       "      <th>params</th>\n",
       "      <th>std_test_score</th>\n",
       "    </tr>\n",
       "  </thead>\n",
       "  <tbody>\n",
       "    <tr>\n",
       "      <th>0</th>\n",
       "      <td>1</td>\n",
       "      <td>0.994435</td>\n",
       "      <td>0.994435</td>\n",
       "      <td>0.994435</td>\n",
       "      <td>False</td>\n",
       "      <td>0</td>\n",
       "      <td>{'C': 177827941.004, 'kernel': 'rbf', 'gamma':...</td>\n",
       "      <td>0.0</td>\n",
       "    </tr>\n",
       "    <tr>\n",
       "      <th>254</th>\n",
       "      <td>255</td>\n",
       "      <td>0.994435</td>\n",
       "      <td>0.994435</td>\n",
       "      <td>0.994435</td>\n",
       "      <td>False</td>\n",
       "      <td>0</td>\n",
       "      <td>{'C': 177827.941004, 'kernel': 'rbf', 'gamma':...</td>\n",
       "      <td>0.0</td>\n",
       "    </tr>\n",
       "    <tr>\n",
       "      <th>263</th>\n",
       "      <td>264</td>\n",
       "      <td>0.994435</td>\n",
       "      <td>0.994435</td>\n",
       "      <td>0.994435</td>\n",
       "      <td>False</td>\n",
       "      <td>0</td>\n",
       "      <td>{'C': 177827941.004, 'kernel': 'rbf', 'gamma':...</td>\n",
       "      <td>0.0</td>\n",
       "    </tr>\n",
       "    <tr>\n",
       "      <th>262</th>\n",
       "      <td>263</td>\n",
       "      <td>0.994435</td>\n",
       "      <td>0.994435</td>\n",
       "      <td>0.994435</td>\n",
       "      <td>False</td>\n",
       "      <td>0</td>\n",
       "      <td>{'C': 1000000.0, 'kernel': 'rbf', 'gamma': 0.001}</td>\n",
       "      <td>0.0</td>\n",
       "    </tr>\n",
       "    <tr>\n",
       "      <th>261</th>\n",
       "      <td>262</td>\n",
       "      <td>0.994435</td>\n",
       "      <td>0.994435</td>\n",
       "      <td>0.994435</td>\n",
       "      <td>False</td>\n",
       "      <td>0</td>\n",
       "      <td>{'C': 177827941.004, 'kernel': 'rbf', 'gamma':...</td>\n",
       "      <td>0.0</td>\n",
       "    </tr>\n",
       "  </tbody>\n",
       "</table>\n",
       "</div>"
      ],
      "text/plain": [
       "     index  max_test_score  mean_test_score  min_test_score nan_test_score?  \\\n",
       "0        1        0.994435         0.994435        0.994435           False   \n",
       "254    255        0.994435         0.994435        0.994435           False   \n",
       "263    264        0.994435         0.994435        0.994435           False   \n",
       "262    263        0.994435         0.994435        0.994435           False   \n",
       "261    262        0.994435         0.994435        0.994435           False   \n",
       "\n",
       "     param_index                                             params  \\\n",
       "0              0  {'C': 177827941.004, 'kernel': 'rbf', 'gamma':...   \n",
       "254            0  {'C': 177827.941004, 'kernel': 'rbf', 'gamma':...   \n",
       "263            0  {'C': 177827941.004, 'kernel': 'rbf', 'gamma':...   \n",
       "262            0  {'C': 1000000.0, 'kernel': 'rbf', 'gamma': 0.001}   \n",
       "261            0  {'C': 177827941.004, 'kernel': 'rbf', 'gamma':...   \n",
       "\n",
       "     std_test_score  \n",
       "0               0.0  \n",
       "254             0.0  \n",
       "263             0.0  \n",
       "262             0.0  \n",
       "261             0.0  "
      ]
     },
     "execution_count": 33,
     "metadata": {},
     "output_type": "execute_result"
    }
   ],
   "source": [
    "pd.DataFrame(cv.cv_results_).sort_values(\"mean_test_score\", ascending=False).head()"
   ]
  },
  {
   "cell_type": "markdown",
   "metadata": {},
   "source": [
    "### Using EvolutionaryAlgorithmSearchCV"
   ]
  },
  {
   "cell_type": "markdown",
   "metadata": {},
   "source": [
    "Again same parameter space, optimize for 10 generations."
   ]
  },
  {
   "cell_type": "code",
   "execution_count": 15,
   "metadata": {},
   "outputs": [
    {
     "name": "stdout",
     "output_type": "stream",
     "text": [
      "Types [2, 1, 2] and maxint [24, 0, 24] detected\n",
      "--- Evolve in 625 possible combinations ---\n",
      "gen\tnevals\tavg     \tmin    \tmax     \n",
      "0  \t50    \t0.915838\t0.89872\t0.994435\n",
      "1  \t29    \t0.94562 \t0.89872\t0.994435\n",
      "2  \t30    \t0.989661\t0.943795\t0.994435\n",
      "3  \t29    \t0.993033\t0.984975\t0.994435\n",
      "4  \t35    \t0.994435\t0.994435\t0.994435\n",
      "5  \t22    \t0.994435\t0.994435\t0.994435\n",
      "6  \t24    \t0.990518\t0.89872 \t0.994435\n",
      "7  \t33    \t0.992521\t0.89872 \t0.994435\n",
      "8  \t28    \t0.990629\t0.89872 \t0.994435\n",
      "9  \t35    \t0.992521\t0.89872 \t0.994435\n",
      "10 \t25    \t0.994357\t0.99054 \t0.994435\n",
      "Best individual is: {'C': 177827941.00389227, 'kernel': 'rbf', 'gamma': 0.001}\n",
      "with fitness: 0.9944351697273233\n",
      "CPU times: user 2min 15s, sys: 4.28 s, total: 2min 19s\n",
      "Wall time: 2min 21s\n"
     ]
    }
   ],
   "source": [
    "cv = EvolutionaryAlgorithmSearchCV(estimator=SVC(),\n",
    "                                   params=paramgrid,\n",
    "                                   scoring=\"accuracy\",\n",
    "                                   cv=StratifiedKFold(n_splits=10),\n",
    "                                   verbose=True,\n",
    "                                   population_size=50,\n",
    "                                   gene_mutation_prob=0.10,\n",
    "                                   tournament_size=3,\n",
    "                                   generations_number=10)\n",
    "%time cv.fit(X, y)"
   ]
  },
  {
   "cell_type": "markdown",
   "metadata": {},
   "source": [
    "### Best score + params"
   ]
  },
  {
   "cell_type": "code",
   "execution_count": 16,
   "metadata": {},
   "outputs": [
    {
     "data": {
      "text/plain": [
       "(0.99443516972732326,\n",
       " {'C': 177827941.00389227, 'gamma': 0.001, 'kernel': 'rbf'})"
      ]
     },
     "execution_count": 16,
     "metadata": {},
     "output_type": "execute_result"
    }
   ],
   "source": [
    "cv.best_score_, cv.best_params_"
   ]
  },
  {
   "cell_type": "markdown",
   "metadata": {},
   "source": [
    "Our cv_results_ table (note, includes all individuals with their mean, max, min, and std test score)."
   ]
  },
  {
   "cell_type": "code",
   "execution_count": 32,
   "metadata": {},
   "outputs": [
    {
     "data": {
      "text/html": [
       "<div>\n",
       "<table border=\"1\" class=\"dataframe\">\n",
       "  <thead>\n",
       "    <tr style=\"text-align: right;\">\n",
       "      <th></th>\n",
       "      <th>index</th>\n",
       "      <th>max_test_score</th>\n",
       "      <th>mean_test_score</th>\n",
       "      <th>min_test_score</th>\n",
       "      <th>nan_test_score?</th>\n",
       "      <th>param_index</th>\n",
       "      <th>params</th>\n",
       "      <th>std_test_score</th>\n",
       "    </tr>\n",
       "  </thead>\n",
       "  <tbody>\n",
       "    <tr>\n",
       "      <th>0</th>\n",
       "      <td>1</td>\n",
       "      <td>0.994435</td>\n",
       "      <td>0.994435</td>\n",
       "      <td>0.994435</td>\n",
       "      <td>False</td>\n",
       "      <td>0</td>\n",
       "      <td>{'C': 177827941.004, 'kernel': 'rbf', 'gamma':...</td>\n",
       "      <td>0.0</td>\n",
       "    </tr>\n",
       "    <tr>\n",
       "      <th>254</th>\n",
       "      <td>255</td>\n",
       "      <td>0.994435</td>\n",
       "      <td>0.994435</td>\n",
       "      <td>0.994435</td>\n",
       "      <td>False</td>\n",
       "      <td>0</td>\n",
       "      <td>{'C': 177827.941004, 'kernel': 'rbf', 'gamma':...</td>\n",
       "      <td>0.0</td>\n",
       "    </tr>\n",
       "    <tr>\n",
       "      <th>263</th>\n",
       "      <td>264</td>\n",
       "      <td>0.994435</td>\n",
       "      <td>0.994435</td>\n",
       "      <td>0.994435</td>\n",
       "      <td>False</td>\n",
       "      <td>0</td>\n",
       "      <td>{'C': 177827941.004, 'kernel': 'rbf', 'gamma':...</td>\n",
       "      <td>0.0</td>\n",
       "    </tr>\n",
       "    <tr>\n",
       "      <th>262</th>\n",
       "      <td>263</td>\n",
       "      <td>0.994435</td>\n",
       "      <td>0.994435</td>\n",
       "      <td>0.994435</td>\n",
       "      <td>False</td>\n",
       "      <td>0</td>\n",
       "      <td>{'C': 1000000.0, 'kernel': 'rbf', 'gamma': 0.001}</td>\n",
       "      <td>0.0</td>\n",
       "    </tr>\n",
       "    <tr>\n",
       "      <th>261</th>\n",
       "      <td>262</td>\n",
       "      <td>0.994435</td>\n",
       "      <td>0.994435</td>\n",
       "      <td>0.994435</td>\n",
       "      <td>False</td>\n",
       "      <td>0</td>\n",
       "      <td>{'C': 177827941.004, 'kernel': 'rbf', 'gamma':...</td>\n",
       "      <td>0.0</td>\n",
       "    </tr>\n",
       "  </tbody>\n",
       "</table>\n",
       "</div>"
      ],
      "text/plain": [
       "     index  max_test_score  mean_test_score  min_test_score nan_test_score?  \\\n",
       "0        1        0.994435         0.994435        0.994435           False   \n",
       "254    255        0.994435         0.994435        0.994435           False   \n",
       "263    264        0.994435         0.994435        0.994435           False   \n",
       "262    263        0.994435         0.994435        0.994435           False   \n",
       "261    262        0.994435         0.994435        0.994435           False   \n",
       "\n",
       "     param_index                                             params  \\\n",
       "0              0  {'C': 177827941.004, 'kernel': 'rbf', 'gamma':...   \n",
       "254            0  {'C': 177827.941004, 'kernel': 'rbf', 'gamma':...   \n",
       "263            0  {'C': 177827941.004, 'kernel': 'rbf', 'gamma':...   \n",
       "262            0  {'C': 1000000.0, 'kernel': 'rbf', 'gamma': 0.001}   \n",
       "261            0  {'C': 177827941.004, 'kernel': 'rbf', 'gamma':...   \n",
       "\n",
       "     std_test_score  \n",
       "0               0.0  \n",
       "254             0.0  \n",
       "263             0.0  \n",
       "262             0.0  \n",
       "261             0.0  "
      ]
     },
     "execution_count": 32,
     "metadata": {},
     "output_type": "execute_result"
    }
   ],
   "source": [
    "pd.DataFrame(cv.cv_results_).sort_values(\"mean_test_score\", ascending=False).head()"
   ]
  },
  {
   "cell_type": "code",
   "execution_count": null,
   "metadata": {
    "collapsed": true
   },
   "outputs": [],
   "source": []
  }
 ],
 "metadata": {
  "kernelspec": {
   "display_name": "Python 3",
   "language": "python",
   "name": "python3"
  },
  "language_info": {
   "codemirror_mode": {
    "name": "ipython",
    "version": 3
   },
   "file_extension": ".py",
   "mimetype": "text/x-python",
   "name": "python",
   "nbconvert_exporter": "python",
   "pygments_lexer": "ipython3",
   "version": "3.4.3"
  }
 },
 "nbformat": 4,
 "nbformat_minor": 1
}
