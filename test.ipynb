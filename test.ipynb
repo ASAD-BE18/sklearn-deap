{
 "cells": [
  {
   "cell_type": "markdown",
   "metadata": {
    "deletable": true,
    "editable": true
   },
   "source": [
    "## Load the digits dataset and evolutionary_search"
   ]
  },
  {
   "cell_type": "code",
   "execution_count": 1,
   "metadata": {
    "collapsed": false,
    "deletable": true,
    "editable": true,
    "scrolled": false
   },
   "outputs": [
    {
     "data": {
      "text/plain": [
       "((1797, 64), (1797,))"
      ]
     },
     "execution_count": 1,
     "metadata": {},
     "output_type": "execute_result"
    }
   ],
   "source": [
    "from evolutionary_search import EvolutionaryAlgorithmSearchCV\n",
    "import sklearn.datasets\n",
    "import numpy as np\n",
    "import pandas as pd\n",
    "\n",
    "data = sklearn.datasets.load_digits()\n",
    "X = data[\"data\"]\n",
    "y = data[\"target\"]\n",
    "\n",
    "# make it a 2-class problem by only classifying the digit \"5\" vs the rest\n",
    "y = np.array([1 if yy == 5 else 0 for yy in y])\n",
    "\n",
    "X.shape, y.shape"
   ]
  },
  {
   "cell_type": "code",
   "execution_count": 2,
   "metadata": {
    "collapsed": true,
    "deletable": true,
    "editable": true
   },
   "outputs": [],
   "source": [
    "from sklearn.model_selection import StratifiedKFold, GridSearchCV, RandomizedSearchCV\n",
    "from sklearn.svm import SVC"
   ]
  },
  {
   "cell_type": "markdown",
   "metadata": {
    "deletable": true,
    "editable": true
   },
   "source": [
    "## Train an SVM with RBF kernel"
   ]
  },
  {
   "cell_type": "markdown",
   "metadata": {
    "deletable": true,
    "editable": true
   },
   "source": [
    "### Using conventional GridSearchCV"
   ]
  },
  {
   "cell_type": "markdown",
   "metadata": {
    "deletable": true,
    "editable": true
   },
   "source": [
    "Parameter grid: 625 parameter combinations"
   ]
  },
  {
   "cell_type": "code",
   "execution_count": 3,
   "metadata": {
    "collapsed": false,
    "deletable": true,
    "editable": true
   },
   "outputs": [
    {
     "name": "stdout",
     "output_type": "stream",
     "text": [
      "Size:  625\n"
     ]
    }
   ],
   "source": [
    "paramgrid = {\"kernel\": [\"rbf\"],\n",
    "             \"C\"     : np.logspace(-9, 9, num=25, base=10),\n",
    "             \"gamma\" : np.logspace(-9, 9, num=25, base=10)}\n",
    "print(\"Size: \", len(paramgrid[\"kernel\"])*len(paramgrid[\"C\"])*len(paramgrid[\"gamma\"]))"
   ]
  },
  {
   "cell_type": "code",
   "execution_count": 4,
   "metadata": {
    "collapsed": false,
    "deletable": true,
    "editable": true
   },
   "outputs": [
    {
     "name": "stdout",
     "output_type": "stream",
     "text": [
      "Fitting 2 folds for each of 625 candidates, totalling 1250 fits\n",
      "Wall time: 3min 57s\n"
     ]
    },
    {
     "name": "stderr",
     "output_type": "stream",
     "text": [
      "[Parallel(n_jobs=1)]: Done 1250 out of 1250 | elapsed:  4.0min finished\n"
     ]
    },
    {
     "data": {
      "text/plain": [
       "GridSearchCV(cv=StratifiedKFold(n_splits=2, random_state=None, shuffle=False),\n",
       "       error_score='raise',\n",
       "       estimator=SVC(C=1.0, cache_size=200, class_weight=None, coef0=0.0,\n",
       "  decision_function_shape=None, degree=3, gamma='auto', kernel='rbf',\n",
       "  max_iter=-1, probability=False, random_state=None, shrinking=True,\n",
       "  tol=0.001, verbose=False),\n",
       "       fit_params={}, iid=True, n_jobs=1,\n",
       "       param_grid={'gamma': array([  1.00000e-09,   5.62341e-09,   3.16228e-08,   1.77828e-07,\n",
       "         1.00000e-06,   5.62341e-06,   3.16228e-05,   1.77828e-04,\n",
       "         1.00000e-03,   5.62341e-03,   3.16228e-02,   1.77828e-01,\n",
       "         1.00000e+00,   5.62341e+00,   3.16228e+01,   1.77828e+02,\n",
       "         1....7828e+05,\n",
       "         1.00000e+06,   5.62341e+06,   3.16228e+07,   1.77828e+08,\n",
       "         1.00000e+09])},\n",
       "       pre_dispatch='2*n_jobs', refit=True, return_train_score=True,\n",
       "       scoring='accuracy', verbose=1)"
      ]
     },
     "execution_count": 4,
     "metadata": {},
     "output_type": "execute_result"
    }
   ],
   "source": [
    "cv = GridSearchCV(estimator=SVC(),\n",
    "                  param_grid=paramgrid,\n",
    "                  scoring=\"accuracy\",\n",
    "                  cv=StratifiedKFold(n_splits=2),\n",
    "                  verbose=1)\n",
    "%time cv.fit(X, y)"
   ]
  },
  {
   "cell_type": "markdown",
   "metadata": {
    "deletable": true,
    "editable": true
   },
   "source": [
    "### Best score + params"
   ]
  },
  {
   "cell_type": "code",
   "execution_count": 10,
   "metadata": {
    "collapsed": false,
    "deletable": true,
    "editable": true
   },
   "outputs": [
    {
     "data": {
      "text/plain": [
       "(0.98942682248191427, {'C': 1.0, 'gamma': 0.001, 'kernel': 'rbf'})"
      ]
     },
     "execution_count": 10,
     "metadata": {},
     "output_type": "execute_result"
    }
   ],
   "source": [
    "cv.best_score_, cv.best_params_"
   ]
  },
  {
   "cell_type": "markdown",
   "metadata": {
    "deletable": true,
    "editable": true
   },
   "source": [
    "An example of the \"cannonical\" cv_results_ table in sklearn:"
   ]
  },
  {
   "cell_type": "code",
   "execution_count": 34,
   "metadata": {
    "collapsed": false,
    "deletable": true,
    "editable": true
   },
   "outputs": [
    {
     "data": {
      "text/html": [
       "<div>\n",
       "<table border=\"1\" class=\"dataframe\">\n",
       "  <thead>\n",
       "    <tr style=\"text-align: right;\">\n",
       "      <th></th>\n",
       "      <th>index</th>\n",
       "      <th>max_test_score</th>\n",
       "      <th>mean_test_score</th>\n",
       "      <th>min_test_score</th>\n",
       "      <th>nan_test_score?</th>\n",
       "      <th>param_index</th>\n",
       "      <th>params</th>\n",
       "      <th>std_test_score</th>\n",
       "    </tr>\n",
       "  </thead>\n",
       "  <tbody>\n",
       "    <tr>\n",
       "      <th>0</th>\n",
       "      <td>1</td>\n",
       "      <td>0.994435</td>\n",
       "      <td>0.994435</td>\n",
       "      <td>0.994435</td>\n",
       "      <td>False</td>\n",
       "      <td>0</td>\n",
       "      <td>{'C': 177827941.004, 'kernel': 'rbf', 'gamma':...</td>\n",
       "      <td>0.0</td>\n",
       "    </tr>\n",
       "    <tr>\n",
       "      <th>254</th>\n",
       "      <td>255</td>\n",
       "      <td>0.994435</td>\n",
       "      <td>0.994435</td>\n",
       "      <td>0.994435</td>\n",
       "      <td>False</td>\n",
       "      <td>0</td>\n",
       "      <td>{'C': 177827.941004, 'kernel': 'rbf', 'gamma':...</td>\n",
       "      <td>0.0</td>\n",
       "    </tr>\n",
       "    <tr>\n",
       "      <th>263</th>\n",
       "      <td>264</td>\n",
       "      <td>0.994435</td>\n",
       "      <td>0.994435</td>\n",
       "      <td>0.994435</td>\n",
       "      <td>False</td>\n",
       "      <td>0</td>\n",
       "      <td>{'C': 177827941.004, 'kernel': 'rbf', 'gamma':...</td>\n",
       "      <td>0.0</td>\n",
       "    </tr>\n",
       "    <tr>\n",
       "      <th>262</th>\n",
       "      <td>263</td>\n",
       "      <td>0.994435</td>\n",
       "      <td>0.994435</td>\n",
       "      <td>0.994435</td>\n",
       "      <td>False</td>\n",
       "      <td>0</td>\n",
       "      <td>{'C': 1000000.0, 'kernel': 'rbf', 'gamma': 0.001}</td>\n",
       "      <td>0.0</td>\n",
       "    </tr>\n",
       "    <tr>\n",
       "      <th>261</th>\n",
       "      <td>262</td>\n",
       "      <td>0.994435</td>\n",
       "      <td>0.994435</td>\n",
       "      <td>0.994435</td>\n",
       "      <td>False</td>\n",
       "      <td>0</td>\n",
       "      <td>{'C': 177827941.004, 'kernel': 'rbf', 'gamma':...</td>\n",
       "      <td>0.0</td>\n",
       "    </tr>\n",
       "  </tbody>\n",
       "</table>\n",
       "</div>"
      ],
      "text/plain": [
       "     index  max_test_score  mean_test_score  min_test_score nan_test_score?  \\\n",
       "0        1        0.994435         0.994435        0.994435           False   \n",
       "254    255        0.994435         0.994435        0.994435           False   \n",
       "263    264        0.994435         0.994435        0.994435           False   \n",
       "262    263        0.994435         0.994435        0.994435           False   \n",
       "261    262        0.994435         0.994435        0.994435           False   \n",
       "\n",
       "     param_index                                             params  \\\n",
       "0              0  {'C': 177827941.004, 'kernel': 'rbf', 'gamma':...   \n",
       "254            0  {'C': 177827.941004, 'kernel': 'rbf', 'gamma':...   \n",
       "263            0  {'C': 177827941.004, 'kernel': 'rbf', 'gamma':...   \n",
       "262            0  {'C': 1000000.0, 'kernel': 'rbf', 'gamma': 0.001}   \n",
       "261            0  {'C': 177827941.004, 'kernel': 'rbf', 'gamma':...   \n",
       "\n",
       "     std_test_score  \n",
       "0               0.0  \n",
       "254             0.0  \n",
       "263             0.0  \n",
       "262             0.0  \n",
       "261             0.0  "
      ]
     },
     "execution_count": 34,
     "metadata": {},
     "output_type": "execute_result"
    }
   ],
   "source": [
    "pd.DataFrame(cv.cv_results_).sort_values(\"mean_test_score\", ascending=False).head()"
   ]
  },
  {
   "cell_type": "markdown",
   "metadata": {
    "deletable": true,
    "editable": true
   },
   "source": [
    "### Using RandomizedSearchCV"
   ]
  },
  {
   "cell_type": "markdown",
   "metadata": {
    "deletable": true,
    "editable": true
   },
   "source": [
    "Same parameter space, but only test 250 random combinations."
   ]
  },
  {
   "cell_type": "code",
   "execution_count": 12,
   "metadata": {
    "collapsed": false,
    "deletable": true,
    "editable": true,
    "scrolled": false
   },
   "outputs": [
    {
     "name": "stdout",
     "output_type": "stream",
     "text": [
      "Fitting 2 folds for each of 250 candidates, totalling 500 fits\n",
      "CPU times: user 1min 13s, sys: 93.8 ms, total: 1min 13s\n",
      "Wall time: 1min 15s\n"
     ]
    },
    {
     "name": "stderr",
     "output_type": "stream",
     "text": [
      "[Parallel(n_jobs=1)]: Done 500 out of 500 | elapsed:  1.3min finished\n"
     ]
    },
    {
     "data": {
      "text/plain": [
       "RandomizedSearchCV(cv=StratifiedKFold(n_splits=2, random_state=None, shuffle=False),\n",
       "          error_score='raise',\n",
       "          estimator=SVC(C=1.0, cache_size=200, class_weight=None, coef0=0.0,\n",
       "  decision_function_shape=None, degree=3, gamma='auto', kernel='rbf',\n",
       "  max_iter=-1, probability=False, random_state=None, shrinking=True,\n",
       "  tol=0.001, verbose=False),\n",
       "          fit_params={}, iid=True, n_iter=250, n_jobs=1,\n",
       "          param_distributions={'C': array([  1.00000e-09,   5.62341e-09,   3.16228e-08,   1.77828e-07,\n",
       "         1.00000e-06,   5.62341e-06,   3.16228e-05,   1.77828e-04,\n",
       "         1.00000e-03,   5.62341e-03,   3.16228e-02,   1.77828e-01,\n",
       "         1.00000e+00,   5.62341e+00,   3.16228e+01,   1.77828e+02,\n",
       "      ...7828e+05,\n",
       "         1.00000e+06,   5.62341e+06,   3.16228e+07,   1.77828e+08,\n",
       "         1.00000e+09])},\n",
       "          pre_dispatch='2*n_jobs', random_state=None, refit=True,\n",
       "          return_train_score=True, scoring='accuracy', verbose=1)"
      ]
     },
     "execution_count": 12,
     "metadata": {},
     "output_type": "execute_result"
    }
   ],
   "source": [
    "cv = RandomizedSearchCV(estimator=SVC(),\n",
    "                        param_distributions=paramgrid,\n",
    "                        n_iter=250,\n",
    "                        scoring=\"accuracy\",\n",
    "                        cv=StratifiedKFold(n_splits=2),\n",
    "                        verbose=1)\n",
    "%time cv.fit(X, y)"
   ]
  },
  {
   "cell_type": "markdown",
   "metadata": {
    "deletable": true,
    "editable": true
   },
   "source": [
    "### Best score + params"
   ]
  },
  {
   "cell_type": "code",
   "execution_count": 13,
   "metadata": {
    "collapsed": false,
    "deletable": true,
    "editable": true
   },
   "outputs": [
    {
     "data": {
      "text/plain": [
       "(0.98942682248191427, {'C': 1.0, 'gamma': 0.001, 'kernel': 'rbf'})"
      ]
     },
     "execution_count": 13,
     "metadata": {},
     "output_type": "execute_result"
    }
   ],
   "source": [
    "cv.best_score_, cv.best_params_"
   ]
  },
  {
   "cell_type": "markdown",
   "metadata": {
    "deletable": true,
    "editable": true
   },
   "source": [
    "An example of the \"cannonical\" cv_results_ table in sklearn:"
   ]
  },
  {
   "cell_type": "code",
   "execution_count": 33,
   "metadata": {
    "collapsed": false,
    "deletable": true,
    "editable": true
   },
   "outputs": [
    {
     "data": {
      "text/html": [
       "<div>\n",
       "<table border=\"1\" class=\"dataframe\">\n",
       "  <thead>\n",
       "    <tr style=\"text-align: right;\">\n",
       "      <th></th>\n",
       "      <th>index</th>\n",
       "      <th>max_test_score</th>\n",
       "      <th>mean_test_score</th>\n",
       "      <th>min_test_score</th>\n",
       "      <th>nan_test_score?</th>\n",
       "      <th>param_index</th>\n",
       "      <th>params</th>\n",
       "      <th>std_test_score</th>\n",
       "    </tr>\n",
       "  </thead>\n",
       "  <tbody>\n",
       "    <tr>\n",
       "      <th>0</th>\n",
       "      <td>1</td>\n",
       "      <td>0.994435</td>\n",
       "      <td>0.994435</td>\n",
       "      <td>0.994435</td>\n",
       "      <td>False</td>\n",
       "      <td>0</td>\n",
       "      <td>{'C': 177827941.004, 'kernel': 'rbf', 'gamma':...</td>\n",
       "      <td>0.0</td>\n",
       "    </tr>\n",
       "    <tr>\n",
       "      <th>254</th>\n",
       "      <td>255</td>\n",
       "      <td>0.994435</td>\n",
       "      <td>0.994435</td>\n",
       "      <td>0.994435</td>\n",
       "      <td>False</td>\n",
       "      <td>0</td>\n",
       "      <td>{'C': 177827.941004, 'kernel': 'rbf', 'gamma':...</td>\n",
       "      <td>0.0</td>\n",
       "    </tr>\n",
       "    <tr>\n",
       "      <th>263</th>\n",
       "      <td>264</td>\n",
       "      <td>0.994435</td>\n",
       "      <td>0.994435</td>\n",
       "      <td>0.994435</td>\n",
       "      <td>False</td>\n",
       "      <td>0</td>\n",
       "      <td>{'C': 177827941.004, 'kernel': 'rbf', 'gamma':...</td>\n",
       "      <td>0.0</td>\n",
       "    </tr>\n",
       "    <tr>\n",
       "      <th>262</th>\n",
       "      <td>263</td>\n",
       "      <td>0.994435</td>\n",
       "      <td>0.994435</td>\n",
       "      <td>0.994435</td>\n",
       "      <td>False</td>\n",
       "      <td>0</td>\n",
       "      <td>{'C': 1000000.0, 'kernel': 'rbf', 'gamma': 0.001}</td>\n",
       "      <td>0.0</td>\n",
       "    </tr>\n",
       "    <tr>\n",
       "      <th>261</th>\n",
       "      <td>262</td>\n",
       "      <td>0.994435</td>\n",
       "      <td>0.994435</td>\n",
       "      <td>0.994435</td>\n",
       "      <td>False</td>\n",
       "      <td>0</td>\n",
       "      <td>{'C': 177827941.004, 'kernel': 'rbf', 'gamma':...</td>\n",
       "      <td>0.0</td>\n",
       "    </tr>\n",
       "  </tbody>\n",
       "</table>\n",
       "</div>"
      ],
      "text/plain": [
       "     index  max_test_score  mean_test_score  min_test_score nan_test_score?  \\\n",
       "0        1        0.994435         0.994435        0.994435           False   \n",
       "254    255        0.994435         0.994435        0.994435           False   \n",
       "263    264        0.994435         0.994435        0.994435           False   \n",
       "262    263        0.994435         0.994435        0.994435           False   \n",
       "261    262        0.994435         0.994435        0.994435           False   \n",
       "\n",
       "     param_index                                             params  \\\n",
       "0              0  {'C': 177827941.004, 'kernel': 'rbf', 'gamma':...   \n",
       "254            0  {'C': 177827.941004, 'kernel': 'rbf', 'gamma':...   \n",
       "263            0  {'C': 177827941.004, 'kernel': 'rbf', 'gamma':...   \n",
       "262            0  {'C': 1000000.0, 'kernel': 'rbf', 'gamma': 0.001}   \n",
       "261            0  {'C': 177827941.004, 'kernel': 'rbf', 'gamma':...   \n",
       "\n",
       "     std_test_score  \n",
       "0               0.0  \n",
       "254             0.0  \n",
       "263             0.0  \n",
       "262             0.0  \n",
       "261             0.0  "
      ]
     },
     "execution_count": 33,
     "metadata": {},
     "output_type": "execute_result"
    }
   ],
   "source": [
    "pd.DataFrame(cv.cv_results_).sort_values(\"mean_test_score\", ascending=False).head()"
   ]
  },
  {
   "cell_type": "markdown",
   "metadata": {
    "deletable": true,
    "editable": true
   },
   "source": [
    "### Using EvolutionaryAlgorithmSearchCV"
   ]
  },
  {
   "cell_type": "markdown",
   "metadata": {
    "deletable": true,
    "editable": true
   },
   "source": [
    "Again same parameter space, optimize for 10 generations."
   ]
  },
  {
   "cell_type": "code",
   "execution_count": 4,
   "metadata": {
    "collapsed": false,
    "deletable": true,
    "editable": true
   },
   "outputs": [
    {
     "name": "stdout",
     "output_type": "stream",
     "text": [
      "Types [2, 1, 2] and maxint [24, 0, 24] detected\n",
      "--- Evolve in 625 possible combinations ---\n",
      "gen\tnevals\tavg     \tmin    \tmax     \tstd      \n",
      "0  \t50    \t0.914279\t0.89872\t0.989427\t0.0332289\n",
      "1  \t31    \t0.930128\t0.89872\t0.989427\t0.0418924\n",
      "2  \t32    \t0.962293\t0.89872\t0.989427\t0.0387303\n",
      "3  \t31    \t0.982081\t0.89872\t0.989427\t0.0211446\n",
      "4  \t27    \t0.987034\t0.89872\t0.989427\t0.0126703\n",
      "5  \t26    \t0.987535\t0.89872\t0.989427\t0.0126893\n",
      "6  \t29    \t0.985799\t0.89872\t0.989427\t0.0177748\n",
      "7  \t31    \t0.985799\t0.89872\t0.989427\t0.0177748\n",
      "8  \t29    \t0.989427\t0.989427\t0.989427\t2.22045e-16\n",
      "9  \t28    \t0.987613\t0.89872 \t0.989427\t0.0126989  \n",
      "10 \t28    \t0.983984\t0.89872 \t0.989427\t0.0215417  \n",
      "Best individual is: {'C': 1.0, 'kernel': 'rbf', 'gamma': 0.001}\n",
      "with fitness: 0.9894268224819143\n",
      "Wall time: 16.9 s\n"
     ]
    }
   ],
   "source": [
    "cv = EvolutionaryAlgorithmSearchCV(estimator=SVC(),\n",
    "                                   params=paramgrid,\n",
    "                                   scoring=\"accuracy\",\n",
    "                                   cv=StratifiedKFold(n_splits=2),\n",
    "                                   verbose=True,\n",
    "                                   population_size=50,\n",
    "                                   gene_mutation_prob=0.10,\n",
    "                                   tournament_size=3,\n",
    "                                   generations_number=10)\n",
    "%time cv.fit(X, y)"
   ]
  },
  {
   "cell_type": "markdown",
   "metadata": {
    "deletable": true,
    "editable": true
   },
   "source": [
    "### Best score + params"
   ]
  },
  {
   "cell_type": "code",
   "execution_count": 5,
   "metadata": {
    "collapsed": false,
    "deletable": true,
    "editable": true
   },
   "outputs": [
    {
     "data": {
      "text/plain": [
       "(0.98942682248191427, {'C': 1.0, 'gamma': 0.001, 'kernel': 'rbf'})"
      ]
     },
     "execution_count": 5,
     "metadata": {},
     "output_type": "execute_result"
    }
   ],
   "source": [
    "cv.best_score_, cv.best_params_"
   ]
  },
  {
   "cell_type": "markdown",
   "metadata": {
    "deletable": true,
    "editable": true
   },
   "source": [
    "Our cv_results_ table (note, includes all individuals with their mean, max, min, and std test score)."
   ]
  },
  {
   "cell_type": "code",
   "execution_count": 7,
   "metadata": {
    "collapsed": false,
    "deletable": true,
    "editable": true
   },
   "outputs": [
    {
     "data": {
      "text/html": [
       "<div>\n",
       "<table border=\"1\" class=\"dataframe\">\n",
       "  <thead>\n",
       "    <tr style=\"text-align: right;\">\n",
       "      <th></th>\n",
       "      <th>index</th>\n",
       "      <th>max_test_score</th>\n",
       "      <th>mean_test_score</th>\n",
       "      <th>min_test_score</th>\n",
       "      <th>nan_test_score?</th>\n",
       "      <th>param_index</th>\n",
       "      <th>params</th>\n",
       "      <th>std_test_score</th>\n",
       "    </tr>\n",
       "  </thead>\n",
       "  <tbody>\n",
       "    <tr>\n",
       "      <th>146</th>\n",
       "      <td>219</td>\n",
       "      <td>0.989427</td>\n",
       "      <td>0.989427</td>\n",
       "      <td>0.989427</td>\n",
       "      <td>False</td>\n",
       "      <td>0</td>\n",
       "      <td>{'C': 1.0, 'kernel': 'rbf', 'gamma': 177.82794...</td>\n",
       "      <td>0.0</td>\n",
       "    </tr>\n",
       "    <tr>\n",
       "      <th>183</th>\n",
       "      <td>260</td>\n",
       "      <td>0.989427</td>\n",
       "      <td>0.989427</td>\n",
       "      <td>0.989427</td>\n",
       "      <td>False</td>\n",
       "      <td>0</td>\n",
       "      <td>{'C': 1.0, 'kernel': 'rbf', 'gamma': 0.001}</td>\n",
       "      <td>0.0</td>\n",
       "    </tr>\n",
       "    <tr>\n",
       "      <th>199</th>\n",
       "      <td>276</td>\n",
       "      <td>0.989427</td>\n",
       "      <td>0.989427</td>\n",
       "      <td>0.989427</td>\n",
       "      <td>False</td>\n",
       "      <td>0</td>\n",
       "      <td>{'C': 1.0, 'kernel': 'rbf', 'gamma': 0.001}</td>\n",
       "      <td>0.0</td>\n",
       "    </tr>\n",
       "    <tr>\n",
       "      <th>198</th>\n",
       "      <td>275</td>\n",
       "      <td>0.989427</td>\n",
       "      <td>0.989427</td>\n",
       "      <td>0.989427</td>\n",
       "      <td>False</td>\n",
       "      <td>0</td>\n",
       "      <td>{'C': 1.0, 'kernel': 'rbf', 'gamma': 0.001}</td>\n",
       "      <td>0.0</td>\n",
       "    </tr>\n",
       "    <tr>\n",
       "      <th>197</th>\n",
       "      <td>274</td>\n",
       "      <td>0.989427</td>\n",
       "      <td>0.989427</td>\n",
       "      <td>0.989427</td>\n",
       "      <td>False</td>\n",
       "      <td>0</td>\n",
       "      <td>{'C': 1.0, 'kernel': 'rbf', 'gamma': 0.001}</td>\n",
       "      <td>0.0</td>\n",
       "    </tr>\n",
       "  </tbody>\n",
       "</table>\n",
       "</div>"
      ],
      "text/plain": [
       "     index  max_test_score  mean_test_score  min_test_score nan_test_score?  \\\n",
       "146    219        0.989427         0.989427        0.989427           False   \n",
       "183    260        0.989427         0.989427        0.989427           False   \n",
       "199    276        0.989427         0.989427        0.989427           False   \n",
       "198    275        0.989427         0.989427        0.989427           False   \n",
       "197    274        0.989427         0.989427        0.989427           False   \n",
       "\n",
       "     param_index                                             params  \\\n",
       "146            0  {'C': 1.0, 'kernel': 'rbf', 'gamma': 177.82794...   \n",
       "183            0        {'C': 1.0, 'kernel': 'rbf', 'gamma': 0.001}   \n",
       "199            0        {'C': 1.0, 'kernel': 'rbf', 'gamma': 0.001}   \n",
       "198            0        {'C': 1.0, 'kernel': 'rbf', 'gamma': 0.001}   \n",
       "197            0        {'C': 1.0, 'kernel': 'rbf', 'gamma': 0.001}   \n",
       "\n",
       "     std_test_score  \n",
       "146             0.0  \n",
       "183             0.0  \n",
       "199             0.0  \n",
       "198             0.0  \n",
       "197             0.0  "
      ]
     },
     "execution_count": 7,
     "metadata": {},
     "output_type": "execute_result"
    }
   ],
   "source": [
    "pd.DataFrame(cv.cv_results_).sort_values(\"mean_test_score\", ascending=False).head()"
   ]
  },
  {
   "cell_type": "code",
   "execution_count": null,
   "metadata": {
    "collapsed": true,
    "deletable": true,
    "editable": true
   },
   "outputs": [],
   "source": []
  }
 ],
 "metadata": {
  "kernelspec": {
   "display_name": "Python 3",
   "language": "python",
   "name": "python3"
  },
  "language_info": {
   "codemirror_mode": {
    "name": "ipython",
    "version": 3
   },
   "file_extension": ".py",
   "mimetype": "text/x-python",
   "name": "python",
   "nbconvert_exporter": "python",
   "pygments_lexer": "ipython3",
   "version": "3.5.2"
  }
 },
 "nbformat": 4,
 "nbformat_minor": 1
}
